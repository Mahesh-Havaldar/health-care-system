{
 "cells": [
  {
   "cell_type": "code",
   "execution_count": 13,
   "id": "28668f56-2c42-4537-9771-94648d12a49e",
   "metadata": {},
   "outputs": [],
   "source": [
    "import tkinter as tk\n",
    "from tkinter import messagebox\n",
    "from PIL import Image, ImageTk\n",
    "import pandas as pd\n",
    "import joblib\n",
    "from rapidfuzz import process"
   ]
  },
  {
   "cell_type": "code",
   "execution_count": 14,
   "id": "6cc29acd-a9c3-4cd8-8aae-4665c66ff69a",
   "metadata": {},
   "outputs": [],
   "source": [
    "# Load model and label encoder\n",
    "model = joblib.load(\"disease_prediction_model.pkl\")\n",
    "label_encoder = joblib.load(\"label_encoder.pkl\")"
   ]
  },
  {
   "cell_type": "code",
   "execution_count": 15,
   "id": "d3b47f5f-b324-4740-89bd-30acbf12ef17",
   "metadata": {},
   "outputs": [],
   "source": [
    "# Load training data\n",
    "train_data = pd.read_csv(\"Training.csv\")\n",
    "if \"Unnamed: 133\" in train_data.columns:\n",
    "    train_data.drop(\"Unnamed: 133\", axis=1, inplace=True)\n",
    "symptoms_list = list(train_data.columns[:-1])"
   ]
  },
  {
   "cell_type": "code",
   "execution_count": 16,
   "id": "3ed0100c-427c-4ca8-903d-0ac1cdfad922",
   "metadata": {},
   "outputs": [],
   "source": [
    "# Load medication data\n",
    "medications_df = pd.read_csv(\"medications.csv\")"
   ]
  },
  {
   "cell_type": "code",
   "execution_count": 17,
   "id": "c077856a-944f-45e8-9aff-b7ada848dac1",
   "metadata": {},
   "outputs": [
    {
     "data": {
      "text/plain": [
       "''"
      ]
     },
     "execution_count": 17,
     "metadata": {},
     "output_type": "execute_result"
    }
   ],
   "source": [
    "root = tk.Tk()\n",
    "root.title(\"Disease Prediction System\")\n",
    "root.geometry(\"800x600\")"
   ]
  },
  {
   "cell_type": "code",
   "execution_count": null,
   "id": "5b7ff9f6-1294-4b07-a7d6-cd7a234576ce",
   "metadata": {},
   "outputs": [],
   "source": [
    "try:\n",
    "    bg_img = Image.open(r\"img.jpg\")  \n",
    "    bg_img = bg_img.resize((800, 600))\n",
    "    bg_photo = ImageTk.PhotoImage(bg_img)\n",
    "    bg_label = tk.Label(root, image=bg_photo)\n",
    "    bg_label.bg_photo = bg_photo  \n",
    "    bg_label.place(relwidth=1, relheight=1)\n",
    "except Exception as e:\n",
    "    print(\"Background image could not be loaded:\", e)"
   ]
  },
  {
   "cell_type": "code",
   "execution_count": 19,
   "id": "d1dd00aa-e93e-491e-a241-7f4f1e0f697a",
   "metadata": {},
   "outputs": [],
   "source": [
    "predicted_disease = tk.StringVar()\n",
    "recommended_medicine = tk.StringVar()"
   ]
  },
  {
   "cell_type": "code",
   "execution_count": 20,
   "id": "a16a6f3e-dd74-449c-820d-c7e7b1bc408a",
   "metadata": {},
   "outputs": [],
   "source": [
    "def clean_symptom(user_symptom):\n",
    "    best_match, score, _ = process.extractOne(user_symptom, symptoms_list)\n",
    "    return best_match if score >= 70 else None"
   ]
  },
  {
   "cell_type": "code",
   "execution_count": 21,
   "id": "4435db62-4fa6-4925-b6b7-a9e694e321b9",
   "metadata": {},
   "outputs": [],
   "source": [
    "# Predict disease\n",
    "def predict_disease():\n",
    "    user_input = symptom_entry.get().lower().replace(\",\", \" \").split()\n",
    "    cleaned_symptoms = []\n",
    "    for sym in user_input:\n",
    "        match = clean_symptom(sym)\n",
    "        if match:\n",
    "            cleaned_symptoms.append(match)\n",
    "\n",
    "    if not cleaned_symptoms:\n",
    "        messagebox.showerror(\"Error\", \"No valid symptoms detected!\")\n",
    "        return\n",
    "\n",
    "    input_data = [0] * len(symptoms_list)\n",
    "    for symptom in cleaned_symptoms:\n",
    "        input_data[symptoms_list.index(symptom)] = 1\n",
    "\n",
    "    prediction = model.predict([input_data])[0]\n",
    "    disease_name = label_encoder.inverse_transform([prediction])[0]\n",
    "\n",
    "    predicted_disease.set(f\"Predicted Disease: {disease_name}\")\n",
    "    recommended_medicine.set(\"\") "
   ]
  },
  {
   "cell_type": "code",
   "execution_count": 22,
   "id": "6dcbdf1a-c71b-4743-b702-24908a3e297a",
   "metadata": {},
   "outputs": [],
   "source": [
    "# Recommend medicine\n",
    "def recommend_medicine():\n",
    "    if not predicted_disease.get():\n",
    "        messagebox.showwarning(\"Warning\", \"Please predict a disease first!\")\n",
    "        return\n",
    "\n",
    "    disease_name = predicted_disease.get().replace(\"Predicted Disease: \", \"\")\n",
    "    medicine_row = medications_df[medications_df[\"Disease\"].str.lower() == disease_name.lower()]\n",
    "\n",
    "    if not medicine_row.empty:\n",
    "        medicine = medicine_row[\"Medication\"].values[0]\n",
    "        recommended_medicine.set(f\"Recommended Medicine: {medicine}\")\n",
    "    else:\n",
    "        recommended_medicine.set(\"No medicine found for this disease.\")"
   ]
  },
  {
   "cell_type": "code",
   "execution_count": 23,
   "id": "efc2e5a5-1e69-49ba-8453-ac78f9bb44a0",
   "metadata": {},
   "outputs": [],
   "source": [
    "# ------------------ UI Components ------------------ #\n",
    "# Title\n",
    "title_label = tk.Label(root, text=\"Disease Prediction System\",font=(\"Arial\", 20, \"bold\"), bg=\"#ffffff\", fg=\"#2c3e50\")\n",
    "title_label.place(relx=0.5, y=30, anchor=\"center\")\n",
    "\n",
    "# Symptom label\n",
    "symptom_label = tk.Label(root, text=\"Enter Symptoms (comma or space separated):\", font=(\"Arial\", 12), bg=\"#ffffff\")\n",
    "symptom_label.place(relx=0.5, y=100, anchor=\"center\")\n",
    "\n",
    "# Symptom entry\n",
    "symptom_entry = tk.Entry(root, font=(\"Arial\", 12), width=50)\n",
    "symptom_entry.place(relx=0.5, y=130, anchor=\"center\")\n",
    "\n",
    "# Predict button\n",
    "predict_button = tk.Button(root, text=\"🔍 Predict Disease\", font=(\"Arial\", 12, \"bold\"),command=predict_disease, bg=\"#2196f3\", fg=\"white\", width=20)\n",
    "predict_button.place(relx=0.35, y=180, anchor=\"center\")\n",
    "\n",
    "# Recommend Medicine button\n",
    "medicine_button = tk.Button(root, text=\"💊 Recommend Medicine\", font=(\"Arial\", 12, \"bold\"),command=recommend_medicine, bg=\"#ff9800\", fg=\"white\", width=20)\n",
    "medicine_button.place(relx=0.65, y=180, anchor=\"center\")\n",
    "\n",
    "# Result: Disease\n",
    "result_label = tk.Label(root, textvariable=predicted_disease, font=(\"Arial\", 14, \"bold\"),bg=\"#ffffff\", fg=\"black\")\n",
    "result_label.place(relx=0.5, y=250, anchor=\"center\")\n",
    "\n",
    "# Result: Medicine\n",
    "medicine_label = tk.Label(root, textvariable=recommended_medicine, font=(\"Arial\", 14, \"bold\"),bg=\"#ffffff\", fg=\"green\")\n",
    "medicine_label.place(relx=0.5, y=300, anchor=\"center\")\n",
    "\n",
    "# ------------------ Run Tkinter Loop ------------------ #\n",
    "root.mainloop()\n"
   ]
  },
  {
   "cell_type": "code",
   "execution_count": null,
   "id": "827a8bc9-af97-464f-9e38-96790495bae6",
   "metadata": {},
   "outputs": [],
   "source": []
  },
  {
   "cell_type": "code",
   "execution_count": null,
   "id": "84dcbe11-9789-494a-9577-ae1ab8e39865",
   "metadata": {},
   "outputs": [],
   "source": []
  }
 ],
 "metadata": {
  "kernelspec": {
   "display_name": "Python 3 (ipykernel)",
   "language": "python",
   "name": "python3"
  },
  "language_info": {
   "codemirror_mode": {
    "name": "ipython",
    "version": 3
   },
   "file_extension": ".py",
   "mimetype": "text/x-python",
   "name": "python",
   "nbconvert_exporter": "python",
   "pygments_lexer": "ipython3",
   "version": "3.13.5"
  }
 },
 "nbformat": 4,
 "nbformat_minor": 5
}
